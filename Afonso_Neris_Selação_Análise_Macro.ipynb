{
  "nbformat": 4,
  "nbformat_minor": 0,
  "metadata": {
    "colab": {
      "provenance": [],
      "toc_visible": true,
      "collapsed_sections": [
        "zBKrN3GoFWDd",
        "Yw1xRGghS25u",
        "SMUg-gwkS7Zv"
      ]
    },
    "kernelspec": {
      "name": "python3",
      "display_name": "Python 3"
    },
    "language_info": {
      "name": "python"
    }
  },
  "cells": [
    {
      "cell_type": "markdown",
      "source": [
        "\n",
        "![download.jpg](data:image/jpeg;base64,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)\n",
        "\n",
        "##**<center>Ciência de Dados para Economia e Finanças</center>**\n",
        "\n",
        "\n",
        "\n",
        "---\n",
        "\n",
        "\n",
        "**<center>Modelo de Previsão da Inflação medida pelo IPCA</center>**\n",
        "\n",
        "**<center>Vítor Wilher, Cientista-Chefe</center>**\n",
        "\n",
        "\n",
        "\n",
        "\n",
        "**<center>Exercício proposto</center>**\n",
        "\n",
        "\n",
        "\n",
        "---\n",
        "\n",
        "\n",
        "\n",
        "A Análise Macro foi contratada por uma Gestora de Recursos para automatizar o processo de previsão da inflação brasileira medida pelo Índice de Preços ao Consumidor Amplo (IPCA). Espera-se que todo o processo de construção seja detalhado em etapas de coleta, tratamento, modelagem e apresentação dos resultados.\n",
        "\n",
        "   Serão particularmente avaliados as etapas de extração automatizada e a acurácia dos modelos propostos, que\n",
        "deve ser explicitada ao longo do processo, bem como a metodologia utilizada, que deve ser explicitada em\n",
        "referências bibliográficas detalhadas.\n",
        "\n",
        "\n",
        "\n",
        "*   Você deve escrever o script e a apresentação em Python.\n",
        "*   Você deve entregar o output do modelo de forma gráfica e em tabela, de preferência utilizando um dashboard\n",
        "para isso.\n",
        "* Para executar o projeto, você tem uma semana a partir do recebimento desse e-mail.\n",
        "* São bem-vindos um código limpo e conciso, bem como uma boa documentação de cada etapa do projeto.\n",
        "\n",
        "\n",
        "\n",
        "\n"
      ],
      "metadata": {
        "id": "08zaS_t_MTPi"
      }
    },
    {
      "cell_type": "markdown",
      "source": [
        "#Bibliotecas"
      ],
      "metadata": {
        "id": "zBKrN3GoFWDd"
      }
    },
    {
      "cell_type": "markdown",
      "source": [
        "##Importando Bibliotecas"
      ],
      "metadata": {
        "id": "Yw1xRGghS25u"
      }
    },
    {
      "cell_type": "code",
      "source": [
        "# Úteis \n",
        "import datetime as dt\n",
        "from datetime import timedelta\n",
        "\n",
        "#Manipulação de Dados\n",
        "import pandas as pd\n",
        "import numpy as np\n",
        "from math import sqrt\n",
        "\n",
        "#Visualização de Dados\n",
        "import seaborn as sns; sns.set()\n",
        "import matplotlib.pyplot as plt\n",
        "%config InlineBackend.figure_format ='retina'   # Plots de alta resolução\n",
        "\n",
        "# Filtrar warnings\n",
        "import warnings\n",
        "warnings.filterwarnings('ignore');\n",
        "\n",
        "#Aprendizado de Maquinas\n",
        "from sklearn.linear_model import LinearRegression\n",
        "from sklearn.ensemble import RandomForestRegressor\n",
        "from sklearn.metrics import mean_squared_error"
      ],
      "metadata": {
        "id": "Bs-1jV4LPmTm"
      },
      "execution_count": 1,
      "outputs": []
    },
    {
      "cell_type": "markdown",
      "source": [
        "# Etapa 01 - Coleta de Dados"
      ],
      "metadata": {
        "id": "oROdeOG9Pjws"
      }
    },
    {
      "cell_type": "markdown",
      "source": [
        "Todos os dados foram retirados do [Time Series Management System](https://www3.bcb.gov.br/sgspub/localizarseries/localizarSeries.do?method=prepararTelaLocalizarSeries). Esses dados são oficiais do Banco Central do Brasil.\n",
        "\n",
        "Nesse [link](https://dadosabertos.bcb.gov.br/dataset/20542-saldo-da-carteira-de-credito-com-recursos-livres---total/resource/6e2b0c97-afab-4790-b8aa-b9542923cf88) existe o método para coletar essas informações em formato JSON. Iremos usar a biblioteca [PANDAS](https://pandas.pydata.org/) para trabalhar com os dados antes de apresenta-los de forma grafica.\n"
      ],
      "metadata": {
        "id": "vP8sP27nPnzB"
      }
    },
    {
      "cell_type": "markdown",
      "source": [
        "## 1.1 - Obtendo dados do Banco Central do Brasil"
      ],
      "metadata": {
        "id": "SMUg-gwkS7Zv"
      }
    },
    {
      "cell_type": "markdown",
      "source": [
        "A constante CODIGO_SERIE = 433 representa o codigo do IPCA no Banco Central do Brasil(BCB). Apenas substituindo esse código conseguimos coletar outros dados do BCB, como IGMP, CELIC, RESERVAS INTERNACIONAIS, PNAD, CDI, etc."
      ],
      "metadata": {
        "id": "xLpARPRhXgGe"
      }
    },
    {
      "cell_type": "code",
      "source": [
        "CODIGO_SERIE = 433\n",
        "def query_bcb(CODIGO_SERIE):\n",
        "  url = 'http://api.bcb.gov.br/dados/serie/bcdata.sgs.{}/dados?formato=json'.format(CODIGO_SERIE)\n",
        "  df = pd.read_json(url)\n",
        "  df['data'] = pd.to_datetime(df['data'], dayfirst=True)#Alterando coluna para DateTime\n",
        "  df.set_index('data', inplace=True)#Alterando Coluna data para Index\n",
        "  return df"
      ],
      "metadata": {
        "id": "2SygPc7NTASW"
      },
      "execution_count": null,
      "outputs": []
    },
    {
      "cell_type": "markdown",
      "source": [
        "#Etapa 02 - Tratamento dos Dados"
      ],
      "metadata": {
        "id": "_sb4taKBFkEt"
      }
    },
    {
      "cell_type": "markdown",
      "source": [
        "A etapa de tratamento dos Dados consiste na varredura de toda a base de dados, tratando dados nulos, corrigindo tipos de dados e criando novas colunas que serão usadas no treino do modelo de predição."
      ],
      "metadata": {
        "id": "jXoTzSffw357"
      }
    },
    {
      "cell_type": "markdown",
      "source": [
        "## 2.1 - Criando DataFrame"
      ],
      "metadata": {
        "id": "vRrhDPN-XEi0"
      }
    },
    {
      "cell_type": "code",
      "source": [
        "#Criando data frame à partir da função\n",
        "ipca_df = query_bcb(CODIGO_SERIE)\n",
        "\n",
        "#Filtrando data frame por data\n",
        "ipca_df = ipca_df['2002':'2022']"
      ],
      "metadata": {
        "id": "I2T-p7rdVY4_"
      },
      "execution_count": null,
      "outputs": []
    },
    {
      "cell_type": "markdown",
      "source": [
        "## 2.2 - Verificando DataFrame"
      ],
      "metadata": {
        "id": "DYch-FKCFlqd"
      }
    },
    {
      "cell_type": "code",
      "source": [
        "#Tipo de dados do Data Frame\n",
        "ipca_df.dtypes"
      ],
      "metadata": {
        "colab": {
          "base_uri": "https://localhost:8080/"
        },
        "id": "wsIUs68eF4r7",
        "outputId": "20c5374c-317a-4367-8176-9557814c5d88"
      },
      "execution_count": null,
      "outputs": [
        {
          "output_type": "execute_result",
          "data": {
            "text/plain": [
              "valor    float64\n",
              "dtype: object"
            ]
          },
          "metadata": {},
          "execution_count": 179
        }
      ]
    },
    {
      "cell_type": "code",
      "source": [
        "print('Nossa base de dados contém',ipca_df.isna().sum().sum(), 'valores nulos')"
      ],
      "metadata": {
        "colab": {
          "base_uri": "https://localhost:8080/"
        },
        "id": "rz4Mjl7lGJQ4",
        "outputId": "e9609550-494a-4fbd-ad0c-a22db1e1407c"
      },
      "execution_count": null,
      "outputs": [
        {
          "output_type": "stream",
          "name": "stdout",
          "text": [
            "Nossa base de dados contém 0 valores nulos\n"
          ]
        }
      ]
    },
    {
      "cell_type": "code",
      "source": [
        "#Criando Colunas com valores anteriores\n",
        "ipca_df['mes_anterior'] = ipca_df['valor'].shift(+1)\n",
        "ipca_df['dois_meses_anteriores'] = ipca_df['valor'].shift(+2)\n",
        "ipca_df['tres_meses_anteriores'] = ipca_df['valor'].shift(+3)\n",
        "\n",
        "#Excluindo linhas com valores nulos\n",
        "ipca_df = ipca_df.dropna()"
      ],
      "metadata": {
        "id": "uia8eJuqkuu7"
      },
      "execution_count": null,
      "outputs": []
    },
    {
      "cell_type": "code",
      "source": [
        "#Amostra do Data Frame\n",
        "ipca_df.sample(5)"
      ],
      "metadata": {
        "colab": {
          "base_uri": "https://localhost:8080/",
          "height": 237
        },
        "id": "VReEKp5LF1m1",
        "outputId": "0c3344aa-5863-4825-b54e-537d01676e73"
      },
      "execution_count": null,
      "outputs": [
        {
          "output_type": "execute_result",
          "data": {
            "text/plain": [
              "            valor  mes_anterior  dois_meses_anteriores  tres_meses_anteriores\n",
              "data                                                                         \n",
              "2003-04-01   0.97          1.23                   1.57                   2.25\n",
              "2003-09-01   0.78          0.34                   0.20                  -0.15\n",
              "2009-03-01   0.20          0.55                   0.48                   0.28\n",
              "2022-09-01  -0.29         -0.36                  -0.68                   0.67\n",
              "2014-11-01   0.51          0.42                   0.57                   0.25"
            ],
            "text/html": [
              "\n",
              "  <div id=\"df-03e66d35-0b38-4228-bae5-e4429aafede1\">\n",
              "    <div class=\"colab-df-container\">\n",
              "      <div>\n",
              "<style scoped>\n",
              "    .dataframe tbody tr th:only-of-type {\n",
              "        vertical-align: middle;\n",
              "    }\n",
              "\n",
              "    .dataframe tbody tr th {\n",
              "        vertical-align: top;\n",
              "    }\n",
              "\n",
              "    .dataframe thead th {\n",
              "        text-align: right;\n",
              "    }\n",
              "</style>\n",
              "<table border=\"1\" class=\"dataframe\">\n",
              "  <thead>\n",
              "    <tr style=\"text-align: right;\">\n",
              "      <th></th>\n",
              "      <th>valor</th>\n",
              "      <th>mes_anterior</th>\n",
              "      <th>dois_meses_anteriores</th>\n",
              "      <th>tres_meses_anteriores</th>\n",
              "    </tr>\n",
              "    <tr>\n",
              "      <th>data</th>\n",
              "      <th></th>\n",
              "      <th></th>\n",
              "      <th></th>\n",
              "      <th></th>\n",
              "    </tr>\n",
              "  </thead>\n",
              "  <tbody>\n",
              "    <tr>\n",
              "      <th>2003-04-01</th>\n",
              "      <td>0.97</td>\n",
              "      <td>1.23</td>\n",
              "      <td>1.57</td>\n",
              "      <td>2.25</td>\n",
              "    </tr>\n",
              "    <tr>\n",
              "      <th>2003-09-01</th>\n",
              "      <td>0.78</td>\n",
              "      <td>0.34</td>\n",
              "      <td>0.20</td>\n",
              "      <td>-0.15</td>\n",
              "    </tr>\n",
              "    <tr>\n",
              "      <th>2009-03-01</th>\n",
              "      <td>0.20</td>\n",
              "      <td>0.55</td>\n",
              "      <td>0.48</td>\n",
              "      <td>0.28</td>\n",
              "    </tr>\n",
              "    <tr>\n",
              "      <th>2022-09-01</th>\n",
              "      <td>-0.29</td>\n",
              "      <td>-0.36</td>\n",
              "      <td>-0.68</td>\n",
              "      <td>0.67</td>\n",
              "    </tr>\n",
              "    <tr>\n",
              "      <th>2014-11-01</th>\n",
              "      <td>0.51</td>\n",
              "      <td>0.42</td>\n",
              "      <td>0.57</td>\n",
              "      <td>0.25</td>\n",
              "    </tr>\n",
              "  </tbody>\n",
              "</table>\n",
              "</div>\n",
              "      <button class=\"colab-df-convert\" onclick=\"convertToInteractive('df-03e66d35-0b38-4228-bae5-e4429aafede1')\"\n",
              "              title=\"Convert this dataframe to an interactive table.\"\n",
              "              style=\"display:none;\">\n",
              "        \n",
              "  <svg xmlns=\"http://www.w3.org/2000/svg\" height=\"24px\"viewBox=\"0 0 24 24\"\n",
              "       width=\"24px\">\n",
              "    <path d=\"M0 0h24v24H0V0z\" fill=\"none\"/>\n",
              "    <path d=\"M18.56 5.44l.94 2.06.94-2.06 2.06-.94-2.06-.94-.94-2.06-.94 2.06-2.06.94zm-11 1L8.5 8.5l.94-2.06 2.06-.94-2.06-.94L8.5 2.5l-.94 2.06-2.06.94zm10 10l.94 2.06.94-2.06 2.06-.94-2.06-.94-.94-2.06-.94 2.06-2.06.94z\"/><path d=\"M17.41 7.96l-1.37-1.37c-.4-.4-.92-.59-1.43-.59-.52 0-1.04.2-1.43.59L10.3 9.45l-7.72 7.72c-.78.78-.78 2.05 0 2.83L4 21.41c.39.39.9.59 1.41.59.51 0 1.02-.2 1.41-.59l7.78-7.78 2.81-2.81c.8-.78.8-2.07 0-2.86zM5.41 20L4 18.59l7.72-7.72 1.47 1.35L5.41 20z\"/>\n",
              "  </svg>\n",
              "      </button>\n",
              "      \n",
              "  <style>\n",
              "    .colab-df-container {\n",
              "      display:flex;\n",
              "      flex-wrap:wrap;\n",
              "      gap: 12px;\n",
              "    }\n",
              "\n",
              "    .colab-df-convert {\n",
              "      background-color: #E8F0FE;\n",
              "      border: none;\n",
              "      border-radius: 50%;\n",
              "      cursor: pointer;\n",
              "      display: none;\n",
              "      fill: #1967D2;\n",
              "      height: 32px;\n",
              "      padding: 0 0 0 0;\n",
              "      width: 32px;\n",
              "    }\n",
              "\n",
              "    .colab-df-convert:hover {\n",
              "      background-color: #E2EBFA;\n",
              "      box-shadow: 0px 1px 2px rgba(60, 64, 67, 0.3), 0px 1px 3px 1px rgba(60, 64, 67, 0.15);\n",
              "      fill: #174EA6;\n",
              "    }\n",
              "\n",
              "    [theme=dark] .colab-df-convert {\n",
              "      background-color: #3B4455;\n",
              "      fill: #D2E3FC;\n",
              "    }\n",
              "\n",
              "    [theme=dark] .colab-df-convert:hover {\n",
              "      background-color: #434B5C;\n",
              "      box-shadow: 0px 1px 3px 1px rgba(0, 0, 0, 0.15);\n",
              "      filter: drop-shadow(0px 1px 2px rgba(0, 0, 0, 0.3));\n",
              "      fill: #FFFFFF;\n",
              "    }\n",
              "  </style>\n",
              "\n",
              "      <script>\n",
              "        const buttonEl =\n",
              "          document.querySelector('#df-03e66d35-0b38-4228-bae5-e4429aafede1 button.colab-df-convert');\n",
              "        buttonEl.style.display =\n",
              "          google.colab.kernel.accessAllowed ? 'block' : 'none';\n",
              "\n",
              "        async function convertToInteractive(key) {\n",
              "          const element = document.querySelector('#df-03e66d35-0b38-4228-bae5-e4429aafede1');\n",
              "          const dataTable =\n",
              "            await google.colab.kernel.invokeFunction('convertToInteractive',\n",
              "                                                     [key], {});\n",
              "          if (!dataTable) return;\n",
              "\n",
              "          const docLinkHtml = 'Like what you see? Visit the ' +\n",
              "            '<a target=\"_blank\" href=https://colab.research.google.com/notebooks/data_table.ipynb>data table notebook</a>'\n",
              "            + ' to learn more about interactive tables.';\n",
              "          element.innerHTML = '';\n",
              "          dataTable['output_type'] = 'display_data';\n",
              "          await google.colab.output.renderOutput(dataTable, element);\n",
              "          const docLink = document.createElement('div');\n",
              "          docLink.innerHTML = docLinkHtml;\n",
              "          element.appendChild(docLink);\n",
              "        }\n",
              "      </script>\n",
              "    </div>\n",
              "  </div>\n",
              "  "
            ]
          },
          "metadata": {},
          "execution_count": 182
        }
      ]
    },
    {
      "cell_type": "code",
      "source": [
        "ipca_df.shape"
      ],
      "metadata": {
        "colab": {
          "base_uri": "https://localhost:8080/"
        },
        "id": "OtzYWA8RgZYZ",
        "outputId": "2df9995d-317a-4ca5-a31a-66477df0d910"
      },
      "execution_count": null,
      "outputs": [
        {
          "output_type": "execute_result",
          "data": {
            "text/plain": [
              "(246, 4)"
            ]
          },
          "metadata": {},
          "execution_count": 183
        }
      ]
    },
    {
      "cell_type": "markdown",
      "source": [
        "## 2.3 - Visualização Gráfica"
      ],
      "metadata": {
        "id": "N4dS96CiYyYk"
      }
    },
    {
      "cell_type": "markdown",
      "source": [
        "A vizualição grafica apresentado nesse projeto consiste em três informações basicas, consideradas relevantes para a análise dos dados. \n",
        "\n",
        "\n",
        "\n",
        "* Grafico 2.3.1 : Grafico de linha representando a evolução da taxa IPCA entre o ano 2002 e 2022.\n",
        "* Grafico 2.3.2 : Histograma apresentando a distribuição e frequencia da taxa de juro no mesmo período.\n",
        "* Grafico 2.3.3 : Grafico Boxplot para identificar outlier e mostrar alguns valores estatistico de quartis e mediana.\n",
        "\n",
        "\n",
        "\n",
        "\n"
      ],
      "metadata": {
        "id": "q3oAIOdC2jq3"
      }
    },
    {
      "cell_type": "markdown",
      "source": [
        "###Gráfico de linha (2.3.1)"
      ],
      "metadata": {
        "id": "n1Vk_9qOdRl_"
      }
    },
    {
      "cell_type": "code",
      "source": [
        "#Criando Grafico de Linha com Dados Historicos\n",
        "plt.subplots(figsize=(12, 6))\n",
        "line_plot = sns.lineplot(data=ipca_df,x='data',y='valor',color='red')\n",
        "line_plot.set_title('IPCA')\n",
        "plt.show(line_plot)"
      ],
      "metadata": {
        "colab": {
          "base_uri": "https://localhost:8080/",
          "height": 408
        },
        "id": "hZppMeB0aITz",
        "outputId": "5983d6b2-c527-4687-f587-9cb1240d3c38"
      },
      "execution_count": null,
      "outputs": [
        {
          "output_type": "display_data",
          "data": {
            "text/plain": [
              "<Figure size 864x432 with 1 Axes>"
            ],
            "image/png": "[encoded data removed]"
          },
          "metadata": {
            "image/png": {
              "width": 736,
              "height": 391
            }
          }
        }
      ]
    },
    {
      "cell_type": "markdown",
      "source": [
        "###Histograma (2.3.2)"
      ],
      "metadata": {
        "id": "ubshw7SP2dRu"
      }
    },
    {
      "cell_type": "code",
      "source": [
        "#Criando Histograma com Dados Historicos\n",
        "plt.subplots(figsize=(12, 6))\n",
        "line_plot = sns.histplot(data=ipca_df,x='valor',color='red')\n",
        "line_plot.set_title('IPCA')\n",
        "plt.show(line_plot)"
      ],
      "metadata": {
        "colab": {
          "base_uri": "https://localhost:8080/",
          "height": 408
        },
        "id": "mpULxWLM15Rv",
        "outputId": "42861b80-84a7-48ce-8870-438356e71f89"
      },
      "execution_count": null,
      "outputs": [
        {
          "output_type": "display_data",
          "data": {
            "text/plain": [
              "<Figure size 864x432 with 1 Axes>"
            ],
            "image/png": "[encoded data removed]"
          },
          "metadata": {
            "image/png": {
              "width": 723,
              "height": 391
            }
          }
        }
      ]
    },
    {
      "cell_type": "markdown",
      "source": [
        "###Grafico BoxPlot (2.3.3)"
      ],
      "metadata": {
        "id": "vPxbVssUZSP8"
      }
    },
    {
      "cell_type": "code",
      "source": [
        "plt.subplots(figsize=(6, 12))\n",
        "box_plot = sns.boxplot(data=ipca_df['valor'],color='red')\n",
        "box_plot.set_title('IPCA')\n",
        "plt.show(box_plot)"
      ],
      "metadata": {
        "colab": {
          "base_uri": "https://localhost:8080/",
          "height": 718
        },
        "id": "zVdRkhtRZVKb",
        "outputId": "5b8f7f61-884c-4773-9a35-f335ef7e83fa"
      },
      "execution_count": null,
      "outputs": [
        {
          "output_type": "display_data",
          "data": {
            "text/plain": [
              "<Figure size 432x864 with 1 Axes>"
            ],
            "image/png": "[encoded data removed]"
          },
          "metadata": {
            "image/png": {
              "width": 385,
              "height": 701
            }
          }
        }
      ]
    },
    {
      "cell_type": "markdown",
      "source": [
        "# Etapa 03 - Modelagem"
      ],
      "metadata": {
        "id": "Q62NheQd_5QL"
      }
    },
    {
      "cell_type": "markdown",
      "source": [
        "As etapas a seguir definirão o modelo usado para predição dos valores, assim como treino e teste do modelo citado.\n",
        "\n",
        "Foram selecionados dois modelos para os testes:"
      ],
      "metadata": {
        "id": "P9kP0SwsVfqz"
      }
    },
    {
      "cell_type": "markdown",
      "source": [
        "## 3.1 - [RandomForestRegressor](https://scikit-learn.org/stable/modules/generated/sklearn.ensemble.RandomForestRegressor.html)\n",
        "\n",
        "[RandomForestRegressor](https://scikit-learn.org/stable/modules/generated/sklearn.ensemble.RandomForestRegressor.html) é um estimador que ajusta várias arvores de decisão de classificação e usa a média para melhorar a precisão do modelo.\n",
        "\n",
        "Foi definido 3 parametros para a execução do modelo:\n",
        "* ***n_estimators*** = Limita o numero de arvores de decisão.\n",
        "* ***max_features*** = O número de features a serem considerados ao procurar a melhor divisão.\n",
        "* ***random_state*** = Controla tanto a aleatoriedade do bootstrap das amostras usadas ao construir árvores  quanto a amostragem dos recursos a serem considerados ao procurar a melhor divisão em cada nó ."
      ],
      "metadata": {
        "id": "KRBCBVwYVigT"
      }
    },
    {
      "cell_type": "code",
      "source": [
        "model=RandomForestRegressor(n_estimators=100,max_features=3, random_state=1)"
      ],
      "metadata": {
        "id": "IYFhaqYOVyGk"
      },
      "execution_count": null,
      "outputs": []
    },
    {
      "cell_type": "markdown",
      "source": [
        "## 3.2 - [LinearRegression](https://scikit-learn.org/stable/modules/generated/sklearn.linear_model.LinearRegression.html)"
      ],
      "metadata": {
        "id": "yOioNdM2VoPt"
      }
    },
    {
      "cell_type": "markdown",
      "source": [
        "[LinearRegression](https://scikit-learn.org/stable/modules/generated/sklearn.linear_model.LinearRegression.html) ajusta um modelo linear com coeficientes w = (w1, …, wp) para minimizar a soma residual dos quadrados entre os alvos observados no conjunto de dados e os alvos previstos pela aproximação linear."
      ],
      "metadata": {
        "id": "tkkjefcRVsaN"
      }
    },
    {
      "cell_type": "code",
      "source": [
        "lin_model=LinearRegression()"
      ],
      "metadata": {
        "id": "im6aYSSbVuqC"
      },
      "execution_count": null,
      "outputs": []
    },
    {
      "cell_type": "code",
      "source": [
        "#Criando Array com valor dos meses anteriores atribuidos a X e alvo atribuido a Y\n",
        "x1,x2,x3,y = ipca_df['mes_anterior'],ipca_df['dois_meses_anteriores'],ipca_df['tres_meses_anteriores'],ipca_df['valor']\n",
        "x1,x2,x3,y=np.array(x1),np.array(x2),np.array(x3),np.array(y)\n",
        "x1,x2,x3,y=x1.reshape(-1,1),x2.reshape(-1,1),x3.reshape(-1,1),y.reshape(-1,1)\n",
        "final_x=np.concatenate((x1,x2,x3),axis=1)\n"
      ],
      "metadata": {
        "id": "RFFjG4FqV0Qq"
      },
      "execution_count": null,
      "outputs": []
    },
    {
      "cell_type": "markdown",
      "source": [
        "* X_train = Variavel preditora (Treino)\n",
        "* X_test = Variavel preditora (Teste)\n",
        "* y_train = Variavel Alvo para predição (Treino)\n",
        "* y_test = Variavel Alvo para predição (Teste)"
      ],
      "metadata": {
        "id": "znUZYeB3V2NQ"
      }
    },
    {
      "cell_type": "code",
      "source": [
        "#Separando 80% dos dados para treino e 20% para teste\n",
        "X_train,X_test,y_train,y_test=final_x[:-50],final_x[-50:],y[:-50],y[-50:]"
      ],
      "metadata": {
        "id": "As3_L8SAV5Co"
      },
      "execution_count": null,
      "outputs": []
    },
    {
      "cell_type": "code",
      "source": [
        "print(\"Tamanho da variavel preditora de treino: \",X_train.shape)\n",
        "print(\"Tamanho da variavel preditora de teste: \",X_test.shape)\n",
        "print(\"Tamanho da variavel alvo de treino: \",y_train.shape)\n",
        "print(\"Tamanho da variavel alvo de treino: \",y_test.shape)"
      ],
      "metadata": {
        "id": "lc8XOtw1V6n_"
      },
      "execution_count": null,
      "outputs": []
    },
    {
      "cell_type": "markdown",
      "source": [
        "## 3.3 - Treino"
      ],
      "metadata": {
        "id": "xJF0HozZWIkX"
      }
    },
    {
      "cell_type": "markdown",
      "source": [
        "Para instanciar os modelos definidos anteriormente é preciso usar a variavei preditora de treino (X_train) e a variavel alvo (y_train)."
      ],
      "metadata": {
        "id": "9YGvDbMsWNkm"
      }
    },
    {
      "cell_type": "code",
      "source": [
        "model.fit(X_train,y_train)\n",
        "lin_model.fit(X_train,y_train)"
      ],
      "metadata": {
        "id": "9LX5koidWOKN"
      },
      "execution_count": null,
      "outputs": []
    },
    {
      "cell_type": "markdown",
      "source": [
        "# Etapa 04 - Apresentação dos Resultados"
      ],
      "metadata": {
        "id": "-BGoARsQ5A6Q"
      }
    },
    {
      "cell_type": "markdown",
      "source": [
        "## 4.1 - RandomForestRegressor"
      ],
      "metadata": {
        "id": "Cm9NdZiIWVnQ"
      }
    },
    {
      "cell_type": "markdown",
      "source": [
        "### 4.1.1 - Visualização Grafica"
      ],
      "metadata": {
        "id": "rloBi0uAWfWp"
      }
    },
    {
      "cell_type": "code",
      "source": [
        "pred=model.predict(X_test)\n",
        "\n",
        "plt.rcParams[\"figure.figsize\"] = (12,8)\n",
        "plt.plot(pred,label='Arvore de decisões aleatória')\n",
        "plt.plot(y_test,label='Preço Real')\n",
        "#Posicionando Legenda\n",
        "plt.legend(loc=\"upper left\")\n",
        "plt.show()"
      ],
      "metadata": {
        "id": "da-sFmzhWX2d"
      },
      "execution_count": null,
      "outputs": []
    },
    {
      "cell_type": "markdown",
      "source": [
        "### 4.1.2 - Visualização em tabela"
      ],
      "metadata": {
        "id": "8Xdg7o5xWhwe"
      }
    },
    {
      "cell_type": "code",
      "source": [
        "#Gerando arquivo Excel dos resultados preditos\n",
        "new_df = ipca_df.reset_index().tail(50).reset_index()\n",
        "pred_df = pd.DataFrame(pred,columns=['RFR'])\n",
        "df = new_df.join(pred_df)\n",
        "df = df.drop(columns='index')\n",
        "df.to_excel('RFR.xlsx')"
      ],
      "metadata": {
        "id": "bFKzlEUNWbbJ"
      },
      "execution_count": null,
      "outputs": []
    },
    {
      "cell_type": "markdown",
      "source": [
        "##4.2 - LinearRegression"
      ],
      "metadata": {
        "id": "X6AFk52TWsXY"
      }
    },
    {
      "cell_type": "markdown",
      "source": [
        "### 4.2.1 - Visualizaçao Grafica"
      ],
      "metadata": {
        "id": "0obD53kPWw35"
      }
    },
    {
      "cell_type": "code",
      "source": [
        "lin_pred=lin_model.predict(X_test)\n",
        "\n",
        "plt.rcParams[\"figure.figsize\"] = (11,6)\n",
        "plt.plot(lin_pred,label='Regreção Linear')\n",
        "plt.plot(y_test,label='Preço Atual')\n",
        "#Posicionando Legenda\n",
        "plt.legend(loc=\"upper left\")\n",
        "plt.show()"
      ],
      "metadata": {
        "id": "WCUz6_o5WvBw"
      },
      "execution_count": null,
      "outputs": []
    },
    {
      "cell_type": "markdown",
      "source": [
        "### 4.2.2 - Visualização em tabela"
      ],
      "metadata": {
        "id": "Xa6B45yQW1Tn"
      }
    },
    {
      "cell_type": "code",
      "source": [
        "new_df = ipca_df.reset_index().tail(50).reset_index()\n",
        "lin_pred_df = pd.DataFrame(pred,columns=['RL'])\n",
        "df = new_df.join(lin_pred_df)\n",
        "df = df.drop(columns='index')\n",
        "df.to_excel('LR.xlsx')"
      ],
      "metadata": {
        "id": "NoKw7yevW5jx"
      },
      "execution_count": null,
      "outputs": []
    },
    {
      "cell_type": "markdown",
      "source": [
        "##4.3 - [Mean Squared Error (MSE)](https://scikit-learn.org/stable/modules/generated/sklearn.metrics.mean_squared_error.html)\n",
        "\n",
        "A mean_squared_errorfunção calcula o erro quadrático médio , uma métrica de risco correspondente ao valor esperado do erro quadrático (quadrático) ou perda."
      ],
      "metadata": {
        "id": "LFJs5dD9W862"
      }
    },
    {
      "cell_type": "code",
      "source": [
        "#MSE RandomForestRegressor\n",
        "rmse_rf=sqrt(mean_squared_error(pred,y_test))\n",
        "#MSE LinearRegression\n",
        "rmse_lr=sqrt(mean_squared_error(lin_pred,y_test))\n",
        "\n",
        "print('MSE RandomForestRegressor:',rmse_rf)\n",
        "print('MSE LinearRegression:',rmse_lr)"
      ],
      "metadata": {
        "id": "MReRrqEIW-cV"
      },
      "execution_count": null,
      "outputs": []
    },
    {
      "cell_type": "markdown",
      "source": [
        "#Etapa 06 - Predição Futura\n",
        "\n",
        "Essa etapa executamos a predição do proximo mês levando como analise os meses anteriores."
      ],
      "metadata": {
        "id": "8iBL59hTXQaN"
      }
    },
    {
      "cell_type": "code",
      "source": [
        "#Criando array\n",
        "proximo_mes = np.array([final_x[-1][0],final_x[-1][1],final_x[-1][2]])\n",
        "\n",
        "#Executando predição\n",
        "model_v2 = model.fit(X_train, y_train)\n",
        "prox = model_v2.predict(proximo_mes.reshape(1, -1))\n",
        "\n",
        "print(\"Valor predito do proximo mês: \",float(prox))"
      ],
      "metadata": {
        "id": "LKtpMdayXZiM"
      },
      "execution_count": null,
      "outputs": []
    },
    {
      "cell_type": "markdown",
      "source": [
        "#Conclusão"
      ],
      "metadata": {
        "id": "-8jVh04-Xcji"
      }
    },
    {
      "cell_type": "markdown",
      "source": [
        "Analisando os dois modelos propostos é observavel a melhor precisão no modelo de Regressão linear, onde a diferença entre a predição e os dados reais são relativamente pequenas.\n",
        "\n",
        "O modelo de Random Forest Regressor apresenta um resultado aceitável considerando que o modelo parte de um dado aleatório e só após isso os dados são refinados e aproximados aos dados reais."
      ],
      "metadata": {
        "id": "IG9MCIA3Z3m6"
      }
    },
    {
      "cell_type": "markdown",
      "source": [
        "#Referencias\n",
        "\n",
        "\n"
      ],
      "metadata": {
        "id": "PoyVnqxIXegy"
      }
    },
    {
      "cell_type": "markdown",
      "source": [
        "##[ Mean Square Error](https://scikit-learn.org/stable/modules/generated/sklearn.metrics.mean_squared_error.html)\n",
        "\n",
        "\n"
      ],
      "metadata": {
        "id": "YuDuL2cdXvo7"
      }
    },
    {
      "cell_type": "markdown",
      "source": [
        "Documentação Mean Square Error."
      ],
      "metadata": {
        "id": "cQ2gIDoLY1T_"
      }
    },
    {
      "cell_type": "markdown",
      "source": [
        "##[Regressão Linear](https://scikit-learn.org/stable/modules/generated/sklearn.linear_model.LinearRegression.html)\n"
      ],
      "metadata": {
        "id": "YUK_UU4eYuCG"
      }
    },
    {
      "cell_type": "markdown",
      "source": [
        "Documentação Scikit Learn sobre Regressão Linear."
      ],
      "metadata": {
        "id": "AKHPaCrkY468"
      }
    },
    {
      "cell_type": "markdown",
      "source": [
        "##[Random Forest Regressor](https://scikit-learn.org/stable/modules/generated/sklearn.ensemble.RandomForestRegressor.html)\n"
      ],
      "metadata": {
        "id": "SJZWna4yYyMg"
      }
    },
    {
      "cell_type": "markdown",
      "source": [
        "Documentação Scikit Learn sobre Random Forest Regressor."
      ],
      "metadata": {
        "id": "lPOeT8zcY9Tm"
      }
    },
    {
      "cell_type": "markdown",
      "source": [
        "##[Pandas](https://pandas.pydata.org/docs/user_guide/index.html)"
      ],
      "metadata": {
        "id": "qM07y3IUYzwg"
      }
    },
    {
      "cell_type": "markdown",
      "source": [
        "Documentação oficial Pandas."
      ],
      "metadata": {
        "id": "0bFp1m8OZB_I"
      }
    },
    {
      "cell_type": "markdown",
      "source": [
        "## Data Science do Zero"
      ],
      "metadata": {
        "id": "I5jE5cg7ZEiz"
      }
    },
    {
      "cell_type": "markdown",
      "source": [
        "GRUS, Joeal. Data Science do Zero : Noções Fundamentais com Python.Segunda Edição. Rio de Janeiro, 2021."
      ],
      "metadata": {
        "id": "jd5xDU_aZIyc"
      }
    }
  ]
}